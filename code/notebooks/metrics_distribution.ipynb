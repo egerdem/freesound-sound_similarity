{
 "cells": [
  {
   "cell_type": "code",
   "execution_count": 1,
   "metadata": {},
   "outputs": [],
   "source": [
    "%load_ext autoreload\n",
    "%autoreload 2\n",
    "\n",
    "import os\n",
    "import sys\n",
    "import json\n",
    "\n",
    "import numpy as np\n",
    "import pandas as pd\n",
    "import matplotlib.pyplot as plt\n",
    "\n",
    "cwd = os.getcwd()\n",
    "code_dir = os.path.dirname(cwd)\n",
    "sys.path.append(code_dir)\n",
    "\n",
    "from lib.directories import *\n",
    "from lib.plotting import *\n",
    "\n",
    "DATASET = \"FSD50K.eval_audio\""
   ]
  },
  {
   "cell_type": "code",
   "execution_count": 2,
   "metadata": {},
   "outputs": [],
   "source": [
    "save_dir_comparison = os.path.join(FIGURES_DIR, \"thesis\", \"comparison\")\n",
    "save_dir_single = os.path.join(FIGURES_DIR, \"thesis\", \"single_models\")\n",
    "\n",
    "search = \"nn\"\n",
    "suffix_agg = \"Agg_mean-PCA_100-Norm_True\"\n",
    "suffix_no_agg = \"Agg_none-PCA_100-Norm_True\"\n",
    "\n",
    "models = [\n",
    "        (\"fs-essentia-extractor_legacy\",\n",
    "         \"PCA_100\",\n",
    "        search\n",
    "        ),\n",
    "        (\"audioset-yamnet-1\", \n",
    "        suffix_agg, \n",
    "        search\n",
    "        ),\n",
    "        (\"audioset-vggish-3\", \n",
    "        suffix_agg,\n",
    "        search\n",
    "        ),\n",
    "        (\"fsd-sinet-vgg42-tlpf-1\", \n",
    "        suffix_agg,\n",
    "        search\n",
    "        ),\n",
    "        (\"openl3-env-mel256-emb512-3\", \n",
    "        suffix_agg,\n",
    "        search\n",
    "        ),\n",
    "        (\"clap-630k-fusion-best\",\n",
    "        suffix_no_agg,\n",
    "        search\n",
    "        ),\n",
    "        (\"imagebind_huge\",\n",
    "        suffix_no_agg,\n",
    "        search\n",
    "        ),\n",
    "        (\"AudioCLIP-Full-Training\",\n",
    "        suffix_no_agg,\n",
    "        search),\n",
    "        (\"Wav2CLIP\",\n",
    "        suffix_no_agg,\n",
    "        search),        \n",
    "]"
   ]
  },
  {
   "cell_type": "code",
   "execution_count": 16,
   "metadata": {},
   "outputs": [],
   "source": [
    "from scipy.stats import mode"
   ]
  },
  {
   "cell_type": "code",
   "execution_count": 23,
   "metadata": {},
   "outputs": [
    {
     "ename": "TypeError",
     "evalue": "unsupported operand type(s) for /: 'list' and 'float'",
     "output_type": "error",
     "traceback": [
      "\u001b[0;31m---------------------------------------------------------------------------\u001b[0m",
      "\u001b[0;31mTypeError\u001b[0m                                 Traceback (most recent call last)",
      "Cell \u001b[0;32mIn[23], line 4\u001b[0m\n\u001b[1;32m      1\u001b[0m maps_quantized \u001b[39m=\u001b[39m []\n\u001b[1;32m      2\u001b[0m \u001b[39mfor\u001b[39;00m i \u001b[39min\u001b[39;00m \u001b[39mrange\u001b[39m(\u001b[39m200\u001b[39m):\n\u001b[1;32m      3\u001b[0m     \u001b[39m#maps[i] = np.round(maps[i], 2)\u001b[39;00m\n\u001b[0;32m----> 4\u001b[0m     np\u001b[39m.\u001b[39mround(np\u001b[39m.\u001b[39mfloor(maps\u001b[39m/\u001b[39;49m\u001b[39m0.05\u001b[39;49m)\u001b[39m*\u001b[39m\u001b[39m0.05\u001b[39m, \u001b[39m2\u001b[39m)\n",
      "\u001b[0;31mTypeError\u001b[0m: unsupported operand type(s) for /: 'list' and 'float'"
     ]
    }
   ],
   "source": [
    "maps_quantized = []\n",
    "for i in range(200):\n",
    "    #maps[i] = np.round(maps[i], 2)\n",
    "    np.round(np.floor(maps/0.05)*0.05, 2)"
   ]
  },
  {
   "cell_type": "code",
   "execution_count": 29,
   "metadata": {},
   "outputs": [
    {
     "name": "stderr",
     "output_type": "stream",
     "text": [
      "/tmp/ipykernel_3873562/1530260450.py:2: FutureWarning: Unlike other reduction functions (e.g. `skew`, `kurtosis`), the default behavior of `mode` typically preserves the axis it acts along. In SciPy 1.11.0, this behavior will change: the default value of `keepdims` will become False, the `axis` over which the statistic is taken will be eliminated, and the value None will no longer be accepted. Set `keepdims` to True or False to avoid this warning.\n",
      "  mode_map = mode(maps_quantized)[0][0]\n"
     ]
    }
   ],
   "source": [
    "maps_quantized = np.round(np.ceil(maps/0.025)*0.025, 3)\n",
    "mode_map = mode(maps_quantized)[0][0]"
   ]
  },
  {
   "cell_type": "code",
   "execution_count": 30,
   "metadata": {},
   "outputs": [
    {
     "name": "stderr",
     "output_type": "stream",
     "text": [
      "/tmp/ipykernel_3873562/1414350430.py:1: FutureWarning: Unlike other reduction functions (e.g. `skew`, `kurtosis`), the default behavior of `mode` typically preserves the axis it acts along. In SciPy 1.11.0, this behavior will change: the default value of `keepdims` will become False, the `axis` over which the statistic is taken will be eliminated, and the value None will no longer be accepted. Set `keepdims` to True or False to avoid this warning.\n",
      "  mode(maps_quantized)\n"
     ]
    },
    {
     "data": {
      "text/plain": [
       "ModeResult(mode=array([0.05]), count=array([37]))"
      ]
     },
     "execution_count": 30,
     "metadata": {},
     "output_type": "execute_result"
    }
   ],
   "source": [
    "mode(maps_quantized)"
   ]
  },
  {
   "cell_type": "code",
   "execution_count": 33,
   "metadata": {},
   "outputs": [
    {
     "name": "stdout",
     "output_type": "stream",
     "text": [
      "fs-essentia-extractor_legacy-PCA_100-nn\n",
      "    Min: 0.002\n",
      "    Max: 0.460\n",
      "   Mean: 0.089\n",
      " Median: 0.061\n",
      "Mode(q): 0.035\n",
      "\n",
      "audioset-yamnet-1-Agg_mean-PCA_100-Norm_True-nn\n",
      "    Min: 0.012\n",
      "    Max: 0.741\n",
      "   Mean: 0.270\n",
      " Median: 0.237\n",
      "Mode(q): 0.190\n",
      "\n",
      "audioset-vggish-3-Agg_mean-PCA_100-Norm_True-nn\n",
      "    Min: 0.010\n",
      "    Max: 0.739\n",
      "   Mean: 0.197\n",
      " Median: 0.142\n",
      "Mode(q): 0.040\n",
      "\n",
      "fsd-sinet-vgg42-tlpf-1-Agg_mean-PCA_100-Norm_True-nn\n",
      "    Min: 0.021\n",
      "    Max: 0.825\n",
      "   Mean: 0.331\n",
      " Median: 0.300\n",
      "Mode(q): 0.095\n",
      "\n",
      "openl3-env-mel256-emb512-3-Agg_mean-PCA_100-Norm_True-nn\n",
      "    Min: 0.007\n",
      "    Max: 0.618\n",
      "   Mean: 0.146\n",
      " Median: 0.107\n",
      "Mode(q): 0.040\n",
      "\n",
      "clap-630k-fusion-best-Agg_none-PCA_100-Norm_True-nn\n",
      "    Min: 0.042\n",
      "    Max: 0.972\n",
      "   Mean: 0.533\n",
      " Median: 0.567\n",
      "Mode(q): 0.600\n",
      "\n",
      "imagebind_huge-Agg_none-PCA_100-Norm_True-nn\n",
      "    Min: 0.014\n",
      "    Max: 0.850\n",
      "   Mean: 0.294\n",
      " Median: 0.249\n",
      "Mode(q): 0.025\n",
      "\n",
      "AudioCLIP-Full-Training-Agg_none-PCA_100-Norm_True-nn\n",
      "    Min: 0.001\n",
      "    Max: 0.390\n",
      "   Mean: 0.063\n",
      " Median: 0.039\n",
      "Mode(q): 0.020\n",
      "\n",
      "Wav2CLIP-Agg_none-PCA_100-Norm_True-nn\n",
      "    Min: 0.007\n",
      "    Max: 0.522\n",
      "   Mean: 0.115\n",
      " Median: 0.088\n",
      "Mode(q): 0.045\n",
      "\n"
     ]
    },
    {
     "name": "stderr",
     "output_type": "stream",
     "text": [
      "/tmp/ipykernel_3873562/3003305563.py:18: FutureWarning: Unlike other reduction functions (e.g. `skew`, `kurtosis`), the default behavior of `mode` typically preserves the axis it acts along. In SciPy 1.11.0, this behavior will change: the default value of `keepdims` will become False, the `axis` over which the statistic is taken will be eliminated, and the value None will no longer be accepted. Set `keepdims` to True or False to avoid this warning.\n",
      "  mode_map = mode(maps_quantized)[0][0]\n",
      "/tmp/ipykernel_3873562/3003305563.py:18: FutureWarning: Unlike other reduction functions (e.g. `skew`, `kurtosis`), the default behavior of `mode` typically preserves the axis it acts along. In SciPy 1.11.0, this behavior will change: the default value of `keepdims` will become False, the `axis` over which the statistic is taken will be eliminated, and the value None will no longer be accepted. Set `keepdims` to True or False to avoid this warning.\n",
      "  mode_map = mode(maps_quantized)[0][0]\n",
      "/tmp/ipykernel_3873562/3003305563.py:18: FutureWarning: Unlike other reduction functions (e.g. `skew`, `kurtosis`), the default behavior of `mode` typically preserves the axis it acts along. In SciPy 1.11.0, this behavior will change: the default value of `keepdims` will become False, the `axis` over which the statistic is taken will be eliminated, and the value None will no longer be accepted. Set `keepdims` to True or False to avoid this warning.\n",
      "  mode_map = mode(maps_quantized)[0][0]\n",
      "/tmp/ipykernel_3873562/3003305563.py:18: FutureWarning: Unlike other reduction functions (e.g. `skew`, `kurtosis`), the default behavior of `mode` typically preserves the axis it acts along. In SciPy 1.11.0, this behavior will change: the default value of `keepdims` will become False, the `axis` over which the statistic is taken will be eliminated, and the value None will no longer be accepted. Set `keepdims` to True or False to avoid this warning.\n",
      "  mode_map = mode(maps_quantized)[0][0]\n",
      "/tmp/ipykernel_3873562/3003305563.py:18: FutureWarning: Unlike other reduction functions (e.g. `skew`, `kurtosis`), the default behavior of `mode` typically preserves the axis it acts along. In SciPy 1.11.0, this behavior will change: the default value of `keepdims` will become False, the `axis` over which the statistic is taken will be eliminated, and the value None will no longer be accepted. Set `keepdims` to True or False to avoid this warning.\n",
      "  mode_map = mode(maps_quantized)[0][0]\n",
      "/tmp/ipykernel_3873562/3003305563.py:18: FutureWarning: Unlike other reduction functions (e.g. `skew`, `kurtosis`), the default behavior of `mode` typically preserves the axis it acts along. In SciPy 1.11.0, this behavior will change: the default value of `keepdims` will become False, the `axis` over which the statistic is taken will be eliminated, and the value None will no longer be accepted. Set `keepdims` to True or False to avoid this warning.\n",
      "  mode_map = mode(maps_quantized)[0][0]\n",
      "/tmp/ipykernel_3873562/3003305563.py:18: FutureWarning: Unlike other reduction functions (e.g. `skew`, `kurtosis`), the default behavior of `mode` typically preserves the axis it acts along. In SciPy 1.11.0, this behavior will change: the default value of `keepdims` will become False, the `axis` over which the statistic is taken will be eliminated, and the value None will no longer be accepted. Set `keepdims` to True or False to avoid this warning.\n",
      "  mode_map = mode(maps_quantized)[0][0]\n",
      "/tmp/ipykernel_3873562/3003305563.py:18: FutureWarning: Unlike other reduction functions (e.g. `skew`, `kurtosis`), the default behavior of `mode` typically preserves the axis it acts along. In SciPy 1.11.0, this behavior will change: the default value of `keepdims` will become False, the `axis` over which the statistic is taken will be eliminated, and the value None will no longer be accepted. Set `keepdims` to True or False to avoid this warning.\n",
      "  mode_map = mode(maps_quantized)[0][0]\n",
      "/tmp/ipykernel_3873562/3003305563.py:18: FutureWarning: Unlike other reduction functions (e.g. `skew`, `kurtosis`), the default behavior of `mode` typically preserves the axis it acts along. In SciPy 1.11.0, this behavior will change: the default value of `keepdims` will become False, the `axis` over which the statistic is taken will be eliminated, and the value None will no longer be accepted. Set `keepdims` to True or False to avoid this warning.\n",
      "  mode_map = mode(maps_quantized)[0][0]\n"
     ]
    }
   ],
   "source": [
    "for model in models:\n",
    "\n",
    "    # Get the path to the label-based mAP@15\n",
    "    variation_dir = os.path.join(EVAL_DIR, DATASET_NAME, model[0]+\"-\"+model[1])\n",
    "    map_path = os.path.join(variation_dir, search, \"labels_mAP@15.csv\")\n",
    "    # Read the label-based mAP@15\n",
    "    labels_map = pd.read_csv(map_path)\n",
    "    # Get the labels and maps\n",
    "    labels = labels_map[\"label\"].to_list()\n",
    "    maps = np.array(labels_map[\"map@15\"].to_list())\n",
    "\n",
    "    min_map = np.min(maps)\n",
    "    max_map = np.max(maps)\n",
    "    mean_map = np.mean(maps)\n",
    "    median_map = np.median(maps)\n",
    "\n",
    "    maps_quantized = np.round(np.ceil(maps/0.005)*0.005, 3)\n",
    "    mode_map = mode(maps_quantized)[0][0]\n",
    "\n",
    "    print(f\"{model[0]}-{model[1]}-{model[2]}\")\n",
    "    print(f\"    Min: {min_map:.3f}\")\n",
    "    print(f\"    Max: {max_map:.3f}\")\n",
    "    print(f\"   Mean: {mean_map:.3f}\")\n",
    "    print(f\" Median: {median_map:.3f}\")\n",
    "    print(f\"Mode(q): {mode_map:.3f}\")\n",
    "    print()"
   ]
  },
  {
   "cell_type": "code",
   "execution_count": 12,
   "metadata": {},
   "outputs": [
    {
     "name": "stdout",
     "output_type": "stream",
     "text": [
      "   Min: 0.002\n",
      "   Max: 0.460\n",
      "  Mean: 0.089\n",
      "Median: 0.061\n"
     ]
    }
   ],
   "source": []
  }
 ],
 "metadata": {
  "kernelspec": {
   "display_name": "ps",
   "language": "python",
   "name": "python3"
  },
  "language_info": {
   "codemirror_mode": {
    "name": "ipython",
    "version": 3
   },
   "file_extension": ".py",
   "mimetype": "text/x-python",
   "name": "python",
   "nbconvert_exporter": "python",
   "pygments_lexer": "ipython3",
   "version": "3.10.12"
  },
  "orig_nbformat": 4
 },
 "nbformat": 4,
 "nbformat_minor": 2
}
